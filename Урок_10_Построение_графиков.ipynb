{
  "nbformat": 4,
  "nbformat_minor": 0,
  "metadata": {
    "colab": {
      "provenance": [],
      "authorship_tag": "ABX9TyOS4IamUup7Yf2H+iZ006M7",
      "include_colab_link": true
    },
    "kernelspec": {
      "name": "python3",
      "display_name": "Python 3"
    },
    "language_info": {
      "name": "python"
    }
  },
  "cells": [
    {
      "cell_type": "markdown",
      "metadata": {
        "id": "view-in-github",
        "colab_type": "text"
      },
      "source": [
        "<a href=\"https://colab.research.google.com/github/AleXQpeR/GeekBrains/blob/main/%D0%A3%D1%80%D0%BE%D0%BA_10_%D0%9F%D0%BE%D1%81%D1%82%D1%80%D0%BE%D0%B5%D0%BD%D0%B8%D0%B5_%D0%B3%D1%80%D0%B0%D1%84%D0%B8%D0%BA%D0%BE%D0%B2.ipynb\" target=\"_parent\"><img src=\"https://colab.research.google.com/assets/colab-badge.svg\" alt=\"Open In Colab\"/></a>"
      ]
    },
    {
      "cell_type": "markdown",
      "source": [
        "# Задача 44:\n",
        "В ячейке ниже представлен код генерирующий DataFrame, которая состоит всего из 1 столбца. Ваша задача перевести его в one hot вид. Сможете ли вы это сделать без get_dummies?\n",
        "\n",
        "import random\n",
        "\n",
        "lst = ['robot'] * 10\n",
        "\n",
        "lst += ['human'] * 10\n",
        "random.shuffle(lst)\n",
        "\n",
        "data = pd.DataFrame({'whoAmI':lst})\n",
        "\n",
        "data.head()"
      ],
      "metadata": {
        "id": "N33gI2IXxAe6"
      }
    },
    {
      "cell_type": "code",
      "execution_count": 1,
      "metadata": {
        "id": "WSkc_3TLuy7d"
      },
      "outputs": [],
      "source": [
        "import pandas as pd\n",
        "import random"
      ]
    },
    {
      "cell_type": "markdown",
      "source": [
        "Cоздание исходного ***DataFrame***:"
      ],
      "metadata": {
        "id": "GgviJVeOvRzu"
      }
    },
    {
      "cell_type": "code",
      "source": [
        "lst = ['robot'] * 10\n",
        "lst += ['human'] * 10\n",
        "random.shuffle(lst)\n",
        "data = pd.DataFrame({'whoAmI': lst})\n",
        "print(\"Original DataFrame:\")\n",
        "print(data.head())"
      ],
      "metadata": {
        "colab": {
          "base_uri": "https://localhost:8080/"
        },
        "id": "T1TKG5_gvRUT",
        "outputId": "e082a0b1-a79e-4dcc-8646-4b2df035becf"
      },
      "execution_count": 2,
      "outputs": [
        {
          "output_type": "stream",
          "name": "stdout",
          "text": [
            "Original DataFrame:\n",
            "  whoAmI\n",
            "0  human\n",
            "1  human\n",
            "2  robot\n",
            "3  human\n",
            "4  robot\n"
          ]
        }
      ]
    },
    {
      "cell_type": "markdown",
      "source": [
        "Получаем уникальные значения из столбца  **'whoAmI'**:"
      ],
      "metadata": {
        "id": "_ZgmO4EWvdPn"
      }
    },
    {
      "cell_type": "code",
      "source": [
        "unique_values = data['whoAmI'].unique()"
      ],
      "metadata": {
        "id": "-SrHyBP9vlql"
      },
      "execution_count": 3,
      "outputs": []
    },
    {
      "cell_type": "markdown",
      "source": [
        "Создание ***DataFrame*** для ***one-hot*** кодирования:"
      ],
      "metadata": {
        "id": "4g-Hy4W4vsdw"
      }
    },
    {
      "cell_type": "code",
      "source": [
        "one_hot_df = pd.DataFrame(0, index=data.index, columns=unique_values)"
      ],
      "metadata": {
        "id": "DM-_w7sGvvEd"
      },
      "execution_count": 4,
      "outputs": []
    },
    {
      "cell_type": "markdown",
      "source": [
        "Заполняем ***one-hot DataFrame*** значениями **1**:"
      ],
      "metadata": {
        "id": "UdLiIF6iwJIx"
      }
    },
    {
      "cell_type": "code",
      "source": [
        "for value in unique_values:\n",
        "    one_hot_df[value] = data['whoAmI'].apply(lambda x: 1 if x == value else 0)"
      ],
      "metadata": {
        "id": "P25bak4kwIb5"
      },
      "execution_count": 5,
      "outputs": []
    },
    {
      "cell_type": "markdown",
      "source": [
        "Объединение исходного ***DataFrame*** и ***one-hot DataFrame***:"
      ],
      "metadata": {
        "id": "gUipJzjDwbU1"
      }
    },
    {
      "cell_type": "code",
      "source": [
        "data = pd.concat([data, one_hot_df], axis=1)\n",
        "\n",
        "print(\"\\nOne-hot DataFrame:\")\n",
        "print(data.head())"
      ],
      "metadata": {
        "colab": {
          "base_uri": "https://localhost:8080/"
        },
        "id": "sT2Eo8FXwxMG",
        "outputId": "c0049722-e5e5-4749-b5de-07f7d5b8e229"
      },
      "execution_count": 7,
      "outputs": [
        {
          "output_type": "stream",
          "name": "stdout",
          "text": [
            "\n",
            "One-hot DataFrame:\n",
            "  whoAmI  human  robot  human  robot\n",
            "0  human      1      0      1      0\n",
            "1  human      1      0      1      0\n",
            "2  robot      0      1      0      1\n",
            "3  human      1      0      1      0\n",
            "4  robot      0      1      0      1\n"
          ]
        }
      ]
    }
  ]
}