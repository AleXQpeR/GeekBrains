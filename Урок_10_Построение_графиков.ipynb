{
  "nbformat": 4,
  "nbformat_minor": 0,
  "metadata": {
    "colab": {
      "provenance": [],
      "authorship_tag": "ABX9TyO9Uw532Wzv9mN6fkdEAl7U",
      "include_colab_link": true
    },
    "kernelspec": {
      "name": "python3",
      "display_name": "Python 3"
    },
    "language_info": {
      "name": "python"
    }
  },
  "cells": [
    {
      "cell_type": "markdown",
      "metadata": {
        "id": "view-in-github",
        "colab_type": "text"
      },
      "source": [
        "<a href=\"https://colab.research.google.com/github/AleXQpeR/GeekBrains/blob/main/%D0%A3%D1%80%D0%BE%D0%BA_10_%D0%9F%D0%BE%D1%81%D1%82%D1%80%D0%BE%D0%B5%D0%BD%D0%B8%D0%B5_%D0%B3%D1%80%D0%B0%D1%84%D0%B8%D0%BA%D0%BE%D0%B2.ipynb\" target=\"_parent\"><img src=\"https://colab.research.google.com/assets/colab-badge.svg\" alt=\"Open In Colab\"/></a>"
      ]
    },
    {
      "cell_type": "markdown",
      "source": [
        "# Задача 44:\n",
        "В ячейке ниже представлен код генерирующий DataFrame, которая состоит всего из 1 столбца. Ваша задача перевести его в one hot вид. Сможете ли вы это сделать без get_dummies?\n",
        "\n",
        "import random\n",
        "\n",
        "lst = ['robot'] * 10\n",
        "\n",
        "lst += ['human'] * 10\n",
        "random.shuffle(lst)\n",
        "\n",
        "data = pd.DataFrame({'whoAmI':lst})\n",
        "\n",
        "data.head()"
      ],
      "metadata": {
        "id": "3RZo4KD07Zpj"
      }
    },
    {
      "cell_type": "markdown",
      "source": [
        "Создаём **DataFrame**:"
      ],
      "metadata": {
        "id": "MufwME8O79PA"
      }
    },
    {
      "cell_type": "code",
      "execution_count": 1,
      "metadata": {
        "colab": {
          "base_uri": "https://localhost:8080/"
        },
        "id": "TP_7mv5t7WeE",
        "outputId": "68e5abcb-ad86-4b5a-95b9-87014814ea0f"
      },
      "outputs": [
        {
          "output_type": "stream",
          "name": "stdout",
          "text": [
            "Original DataFrame:\n",
            "  whoAmI\n",
            "0  human\n",
            "1  human\n",
            "2  robot\n",
            "3  robot\n",
            "4  human\n"
          ]
        }
      ],
      "source": [
        "import pandas as pd\n",
        "import random\n",
        "lst = ['robot'] * 10\n",
        "lst += ['human'] * 10\n",
        "random.shuffle(lst)\n",
        "data = pd.DataFrame({'whoAmI': lst})\n",
        "print(\"Original DataFrame:\")\n",
        "print(data.head())"
      ]
    },
    {
      "cell_type": "markdown",
      "source": [
        "Инициализируем пустой **DataFrame** для ***one-hot*** кодирования:"
      ],
      "metadata": {
        "id": "3Bu5XTIJ8Mq1"
      }
    },
    {
      "cell_type": "code",
      "source": [
        "one_hot_df = pd.DataFrame()"
      ],
      "metadata": {
        "id": "r0BSqs2X8S3b"
      },
      "execution_count": 2,
      "outputs": []
    },
    {
      "cell_type": "markdown",
      "source": [
        "Проходим по уникальным значениям и создаем столбцы для ***one-hot*** кодирования:"
      ],
      "metadata": {
        "id": "fJPhv0xZ8Zqr"
      }
    },
    {
      "cell_type": "code",
      "source": [
        "for value in data['whoAmI'].unique():\n",
        "    one_hot_df[value] = (data['whoAmI'] == value).astype(int)"
      ],
      "metadata": {
        "id": "rljK5xfn8fYv"
      },
      "execution_count": 3,
      "outputs": []
    },
    {
      "cell_type": "markdown",
      "source": [
        "Объединяем оригинальный **DataFrame** и ***one-hot*** **DataFrame**:"
      ],
      "metadata": {
        "id": "liDH5YSl8qo1"
      }
    },
    {
      "cell_type": "code",
      "source": [
        "data = pd.concat([data, one_hot_df], axis=1)"
      ],
      "metadata": {
        "id": "rOmZZ_-G9A_E"
      },
      "execution_count": 4,
      "outputs": []
    },
    {
      "cell_type": "code",
      "source": [
        "print(\"\\nOne-hot DataFrame:\")\n",
        "print(data.head())"
      ],
      "metadata": {
        "colab": {
          "base_uri": "https://localhost:8080/"
        },
        "id": "ogpTcuUq9EZK",
        "outputId": "fb3dd07e-4862-4d43-a9a7-94493e91b02e"
      },
      "execution_count": 6,
      "outputs": [
        {
          "output_type": "stream",
          "name": "stdout",
          "text": [
            "\n",
            "One-hot DataFrame:\n",
            "  whoAmI  human  robot\n",
            "0  human      1      0\n",
            "1  human      1      0\n",
            "2  robot      0      1\n",
            "3  robot      0      1\n",
            "4  human      1      0\n"
          ]
        }
      ]
    }
  ]
}